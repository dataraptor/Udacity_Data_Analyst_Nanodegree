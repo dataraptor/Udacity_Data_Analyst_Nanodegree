{
 "cells": [
  {
   "cell_type": "markdown",
   "metadata": {},
   "source": [
    "# Project 1 - Testing a Perceptual Phenomenon\n",
    "#### By Ryan Cunningham"
   ]
  },
  {
   "cell_type": "markdown",
   "metadata": {},
   "source": [
    "## Background Information\n",
    "In a Stroop task, participants are presented with a list of words, with each word displayed in a color of ink. The participant’s task is to say out loud the color of the ink in which the word is printed. The task has two conditions: a congruent words condition, and an incongruent words condition. In the congruent words condition, the words being displayed are color words whose names match the colors in which they are printed. In the incongruent words condition, the words displayed are color words whose names do not match the colors in which they are printed. In each case, we measure the time it takes to name the ink colors in equally-sized lists. Each participant will go through and record a time from each condition."
   ]
  },
  {
   "cell_type": "markdown",
   "metadata": {},
   "source": [
    "## Questions for Investigation\n",
    "**1. What is our independent variable? What is our dependent variable?**\n",
    "\n",
    "Our independent variable is the congruence between font color and the word itself, a variable we will designate as \"Congruence.\"\n",
    "\n",
    "The dependent variable is the time it takes for a test participant to read, which we can designate \"Reading Time.\""
   ]
  },
  {
   "cell_type": "markdown",
   "metadata": {},
   "source": [
    "**2. What is an appropriate set of hypotheses for this task? What kind of statistical test do you expect to perform? Justify your choices.**\n",
    "\n",
    "One set of hypotheses that we can draw for this task is as follows: test participants should, when reading incongruent words, demonstrate significantly slower reading speeds than participants that read congruent words. Where µ represents the mean congruent pair reading time for a population, and µ0 represents the mean incongruent pair reading time:\n",
    "* Null: µ >= µ0, the mean reading time for incongruent pairs is either the same or less than that of congruent pairs\n",
    "* Alternative: µ < µ0, the mean reading time for incongruent pairs is significantly greater than that of congruent pairs\n",
    "\n",
    "The reason for these hypotheses is to determine if incongruence between text and font color has a demonstrable effect on increasing mean reading times, due to the faster processing time it would take a participant to analyze the text.\n",
    "\n",
    "Since we have Stroop test results for n=25 people, and no information on the reading population as a whole, I propose we conduct a t-test to draw inferences about the population. Assuming that our sample test results are normally distributed, a one-sided t-test should do the trick, since we our hypotheses only concerns a one-directional relationship between the independent and dependent variables (incongruent pairs are associated with increased reading times)."
   ]
  },
  {
   "cell_type": "markdown",
   "metadata": {},
   "source": [
    "### Before we go any further, let's load the data in from the CSV"
   ]
  },
  {
   "cell_type": "code",
   "execution_count": 86,
   "metadata": {
    "collapsed": false
   },
   "outputs": [
    {
     "data": {
      "text/plain": [
       "{u'Congruent': u'12.079', u'Incongruent': u'19.278'}"
      ]
     },
     "execution_count": 86,
     "metadata": {},
     "output_type": "execute_result"
    }
   ],
   "source": [
    "import unicodecsv\n",
    "\n",
    "def readcsv(filename):\n",
    "    with open(filename, 'rb') as f:\n",
    "        reader = unicodecsv.DictReader(f)\n",
    "        return list(reader)\n",
    "\n",
    "reading_times = readcsv('stroopdata.csv')\n",
    "reading_times[0]"
   ]
  },
  {
   "cell_type": "markdown",
   "metadata": {},
   "source": [
    "### But we notice that the reading times for each dataset are included as unicode. Let's convert those datatypes into floats"
   ]
  },
  {
   "cell_type": "code",
   "execution_count": 87,
   "metadata": {
    "collapsed": true
   },
   "outputs": [],
   "source": [
    "def parse(i):\n",
    "    if i == '':\n",
    "        return None\n",
    "    else:\n",
    "        return float(i)"
   ]
  },
  {
   "cell_type": "markdown",
   "metadata": {},
   "source": [
    "### And now we'll convert the datasets into separate lists"
   ]
  },
  {
   "cell_type": "code",
   "execution_count": 88,
   "metadata": {
    "collapsed": false
   },
   "outputs": [
    {
     "name": "stdout",
     "output_type": "stream",
     "text": [
      "12.079\n",
      "19.278\n"
     ]
    }
   ],
   "source": [
    "from collections import defaultdict\n",
    "\n",
    "def group_data(data, key_name):\n",
    "    grouped_data = []\n",
    "    for data_point in data:\n",
    "        grouped_data.append(parse(data_point[key_name]))\n",
    "    return grouped_data\n",
    "\n",
    "congruent_reading_times = group_data(reading_times, 'Congruent')\n",
    "incongruent_reading_times = group_data(reading_times, 'Incongruent')\n",
    "\n",
    "print congruent_reading_times[0]\n",
    "print incongruent_reading_times[0]"
   ]
  },
  {
   "cell_type": "markdown",
   "metadata": {},
   "source": [
    "**3. Report some descriptive statistics regarding this dataset. Include at least one measure of central tendency and at least one measure of variability.**"
   ]
  },
  {
   "cell_type": "markdown",
   "metadata": {},
   "source": [
    "### Now let's describe the data in a bit more detail"
   ]
  },
  {
   "cell_type": "code",
   "execution_count": 89,
   "metadata": {
    "collapsed": false
   },
   "outputs": [
    {
     "name": "stdout",
     "output_type": "stream",
     "text": [
      "Congruent Reading Times Descriptive Statistics\n",
      "----------------------------------\n",
      "Mean: 14.051125\n",
      "Standard deviation: 3.48441571277\n",
      "Minimum: 8.63\n",
      "Maximum: 22.328\n",
      "\n",
      "Incongruent Reading Times Descriptive Statistics\n",
      "----------------------------------\n",
      "Mean: 22.0159166667\n",
      "Standard deviation: 4.69605513451\n",
      "Minimum: 15.687\n",
      "Maximum: 35.255\n",
      "\n"
     ]
    }
   ],
   "source": [
    "import numpy as np\n",
    "\n",
    "def describe_data(data, title):\n",
    "    print title+\" Descriptive Statistics\"\n",
    "    print '----------------------------------'\n",
    "    print 'Mean:', np.mean(data)\n",
    "    print 'Standard deviation:', np.std(data)\n",
    "    print 'Minimum:', np.min(data)\n",
    "    print 'Maximum:', np.max(data)\n",
    "    print ''\n",
    "\n",
    "describe_data(congruent_reading_times, \"Congruent Reading Times\")\n",
    "describe_data(incongruent_reading_times, \"Incongruent Reading Times\")"
   ]
  },
  {
   "cell_type": "markdown",
   "metadata": {},
   "source": [
    "**4. Provide one or two visualizations that show the distribution of the sample data. Write one or two sentences noting what you observe about the plot or plots.**\n",
    "\n",
    "We'll have to start this by importing matplotlib, a Python data visualization library. From there we'll create separate distributions curves for the Congruent and Incongruent datasets"
   ]
  },
  {
   "cell_type": "code",
   "execution_count": 90,
   "metadata": {
    "collapsed": false
   },
   "outputs": [
    {
     "data": {
      "image/png": "[encoded data removed]",
      "text/plain": [
       "<matplotlib.figure.Figure at 0x10d391750>"
      ]
     },
     "metadata": {},
     "output_type": "display_data"
    },
    {
     "data": {
      "image/png": "[encoded data removed]",
      "text/plain": [
       "<matplotlib.figure.Figure at 0x110538950>"
      ]
     },
     "metadata": {},
     "output_type": "display_data"
    }
   ],
   "source": [
    "from scipy.stats import norm\n",
    "import matplotlib.pyplot as plt\n",
    "import matplotlib.mlab as mlab\n",
    "\n",
    "def histogram(data, title):\n",
    "    mu, sigma = np.mean(data), np.std(data)\n",
    "    x = mu + sigma*np.random.randn(10000)\n",
    "    \n",
    "    # the histogram of the data\n",
    "    n, bins, patches = plt.hist(data,10,normed=1, alpha=0.75)\n",
    "    \n",
    "    # add a 'best fit' line\n",
    "    y = mlab.normpdf(bins, mu, sigma)\n",
    "    l = plt.plot(bins, y, 'r--', linewidth=1)\n",
    "    \n",
    "    plt.xlabel('Reading Time')\n",
    "    plt.ylabel('Frequency')\n",
    "    plt.title(r'$\\mathrm{Histogram\\ of\\ %s:}\\ \\mu=%.3f,\\ \\sigma=%.3f$' %(title, mu, sigma))\n",
    "    plt.grid(True)\n",
    "    plt.show()\n",
    "\n",
    "histogram(congruent_reading_times, \"Congruent\\ Reading\\ Times\")\n",
    "histogram(incongruent_reading_times, \"Incongruent\\ Reading\\ Times\")"
   ]
  },
  {
   "cell_type": "markdown",
   "metadata": {},
   "source": [
    "We can make the following observations about the distribution curves:\n",
    "1. Participants that were reading incongruent word-color pairs, on average, took longer to read than participants reading congruent word-color pairs.\n",
    "2. Incongruent word-color pair reading times were more variable than congruent word-color pair reading times.\n",
    "3. Both distributions appear to be skewed to the right, wherein most of the mass under the curve is on the left side of the x-axis.\n",
    "    \n",
    "Seeing as these are two limited samples, I'd recommend using a one-sided t-test to determine if there is a statistically significant relationship between incongruence and longer reading times."
   ]
  },
  {
   "cell_type": "markdown",
   "metadata": {},
   "source": [
    "**5. Now, perform the statistical test and report your results. What is your confidence level and your critical statistic value? Do you reject the null hypothesis or fail to reject it? Come to a conclusion in terms of the experiment task. Did the results match up with your expectations?**"
   ]
  },
  {
   "cell_type": "code",
   "execution_count": 91,
   "metadata": {
    "collapsed": false
   },
   "outputs": [
    {
     "name": "stdout",
     "output_type": "stream",
     "text": [
      "t-test Inputs\n",
      "----------------------------------\n",
      "Population Mean: 14.051\n",
      "Sample Mean: 22.016\n",
      "Standard deviation: 4.696\n",
      "n: 24\n",
      "\n",
      "t-test Results\n",
      "----------------------------------\n",
      "t-statistic: -8.309 \n",
      "p-value: 0.0000\n",
      "At an alpha-level of 0.01, the difference between the means is statistically significant\n"
     ]
    }
   ],
   "source": [
    "import scipy.stats as sp\n",
    "\n",
    "# Collecting the variables necessary for the t-test\n",
    "mu = np.mean(congruent_reading_times)\n",
    "mu_sub_zero = np.mean(incongruent_reading_times)\n",
    "sigma = np.std(incongruent_reading_times)\n",
    "n = len(incongruent_reading_times)\n",
    "\n",
    "print \"t-test Inputs\"\n",
    "print '----------------------------------'\n",
    "print 'Population Mean: %0.3f' % mu\n",
    "print 'Sample Mean: %0.3f' % mu_sub_zero\n",
    "print 'Standard deviation: %0.3f' % sigma\n",
    "print 'n:', n\n",
    "print ''\n",
    "\n",
    "# Calculating the t-statistic and p-value\n",
    "t = (mu - mu_sub_zero)/(sigma/np.sqrt(n))\n",
    "pval = sp.t.sf(np.abs(t), n-1)*2\n",
    "\n",
    "print \"t-test Results\"\n",
    "print '----------------------------------'\n",
    "print 't-statistic: %0.3f ' % t\n",
    "print 'p-value: %.4f' % pval\n",
    "\n",
    "# Determining statistical significant\n",
    "alpha = 0.01\n",
    "if pval < alpha:\n",
    "    print 'At an alpha-level of %.2f, the difference between the means is statistically significant' % (alpha)\n",
    "else:\n",
    "    print 'At an alpha-level of %.2f, the difference between the means is not statistically significant' % (alpha)"
   ]
  },
  {
   "cell_type": "markdown",
   "metadata": {},
   "source": [
    "When measuring the difference between our incongruent pair reading times and congruent pair reading times, we found that it took on average appx. 8 seconds longer for a participant to read incongruent pairs.\n",
    "\n",
    "After running our t-test we found a very large t-statistic with a very small p-value. With a 99% confidence interval, we'd require our resultant p-value to be smaller than 1% in order to prove statistical significance. Since p-value is much smaller than our required threshold, we can say that this experiment provides sufficient evidence to reject our null hypothesis.\n",
    "\n",
    "Therefore, we can conclude that in this experiment, there is evidence of causality between incongruent word-color pairs and increased reading times for our participants.\n",
    "\n",
    "Based on my experience with the Stroop task, these results met my expectations."
   ]
  },
  {
   "cell_type": "markdown",
   "metadata": {},
   "source": [
    "**6. Optional: What do you think is responsible for the effects observed? Can you think of an alternative or similar task that would result in a similar effect? Some research about the problem will be helpful for thinking about these two questions!**\n",
    "\n",
    "Perhaps the same center of the brain used for interpreting visual cues is also used for interpreting written language, and thus operates quickly when the two are in concert with one another (congruent pairs), while two separate interpretation tasks must be performed when visual and written cues are at odds (incongruent pairs). The additional processing time could be what's causing the significant difference in mean reading time.\n",
    "\n",
    "We could conduct a similar study in which incongruent pairs of numbers and their symbols are displayed to the participants. Or animal names and their images."
   ]
  },
  {
   "cell_type": "markdown",
   "metadata": {},
   "source": [
    "## Sources\n",
    "1. Chudler, Eric, \"Interactive Stroop Effect Experiment,\" https://faculty.washington.edu/chudler/java/ready.html, Accessed 12/5/2016"
   ]
  }
 ],
 "metadata": {
  "anaconda-cloud": {},
  "kernelspec": {
   "display_name": "Python [default]",
   "language": "python",
   "name": "python2"
  },
  "language_info": {
   "codemirror_mode": {
    "name": "ipython",
    "version": 2
   },
   "file_extension": ".py",
   "mimetype": "text/x-python",
   "name": "python",
   "nbconvert_exporter": "python",
   "pygments_lexer": "ipython2",
   "version": "2.7.12"
  }
 },
 "nbformat": 4,
 "nbformat_minor": 0
}
